{
 "cells": [
  {
   "cell_type": "markdown",
   "metadata": {},
   "source": [
    "# Semantics and pragmatics, KIK-LG103\n",
    "## Lab session 1, Part 1\n",
    "\n",
    "### Welcome to the first lab session of the course Semantics and Pragmatics\n",
    "\n",
    "This page is a Jupyter notebook. It contains instructions together with *cells*, in which Python 3 program code is written, like this: "
   ]
  },
  {
   "cell_type": "code",
   "execution_count": null,
   "metadata": {},
   "outputs": [],
   "source": [
    "print(\"Hello, everyone!\")"
   ]
  },
  {
   "cell_type": "markdown",
   "metadata": {},
   "source": [
    "You can run the program code by navigating to the cell and pressing Ctrl-Enter inside it. When you do this, Python will execute all the commands in the cell and show the output (if any) below the cell. If you execute the cell above, Python should print \"Hello, everyone!\" for you.\n",
    "\n",
    "If you have already taken the Morphology and Syntax course (KIK-LG102), you should be familiar with how Jupyter notebooks work. In that case you can jump to Part 2 directly."
   ]
  },
  {
   "cell_type": "markdown",
   "metadata": {},
   "source": [
    "### 1. How not to lose your work\n",
    "\n",
    "When you are working on notebooks.csc.fi it is important for you to remember that your notebook is \"alive\" for only a certain time (5 hours maximum). It is possible for you to take a break and continue working later, but if you want to keep your work, you need to **download your notebook** onto your own computer. Later, when you start a new session, you can upload the notebook you have stored and continue working on it.\n",
    "\n",
    "You download your notebook (that is, this page that you are now seeing) by selecting _File -> Download as -> Notebook (.ipynb)_. You can select a file name and a destination directory on your own computer, where this file will be stored.\n",
    "\n",
    "When you come back later, you start a new session at notebooks.csc.fi. First navigate to the correct folder (for instance, sem-prag-2021/Lab1/ClassAssignment/). Then click the _Upload_ button in the top right corner, and choose your .ipynb file from your disk.\n",
    "\n",
    "If you work on different computers from session to session, you need to make sure that you can access your stored file. For instance, you can email the .ipynb file as an attachment to yourself or upload the file to your CSC account on Puhti or save the file on a memory stick that you take with you.\n",
    "\n",
    "**Your FIRST TASK** now is to download your notebook, store it on disk, and then upload it back. To do it properly, you can log out after you have downloaded the notebook, and destroy your course environment (Red button in the Notebooks.csc.fi pane). Then you start a new session and upload your notebook there. You then keep working on your uploaded notebook.\n",
    "\n",
    "### 2. How to submit your work on Moodle\n",
    "\n",
    "When you are done with your home assignment, you need to upload your work on the course Moodle site. You need to download your home assignment page as a notebook file _File -> Download as -> Notebook (.ipynb)_. Again, store this file on the disk of your local computer. Then go to Moodle and upload this file.\n",
    "\n",
    "**Your SECOND TASK** is to practise downloading your notebook as a Python program and upload it on Moodle. There is an assignment on the course Moodle site that is called _Harjoituspalautus_. Use that assignment to upload your Python program. The teachers will check that the file has the right format. Do this right away. Don't wait until the end of the lab session. If you have already done this on the Morphology and Syntax course, you do not need to do it again.\n",
    "\n",
    "When you are ready to continue, start on Part 2 of the lab assignment."
   ]
  }
 ],
 "metadata": {
  "kernelspec": {
   "display_name": "Python 3",
   "language": "python",
   "name": "python3"
  },
  "language_info": {
   "codemirror_mode": {
    "name": "ipython",
    "version": 3
   },
   "file_extension": ".py",
   "mimetype": "text/x-python",
   "name": "python",
   "nbconvert_exporter": "python",
   "pygments_lexer": "ipython3",
   "version": "3.7.2"
  }
 },
 "nbformat": 4,
 "nbformat_minor": 2
}
